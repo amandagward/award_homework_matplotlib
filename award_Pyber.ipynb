{
 "cells": [
  {
   "cell_type": "code",
   "execution_count": null,
   "metadata": {},
   "outputs": [],
   "source": [
    "# Your objective is to build a Bubble Plot that showcases the relationship between four key variables:\n",
    "# Average Fare ($) Per City\n",
    "# Total Number of Rides Per City\n",
    "# Total Number of Drivers Per City\n",
    "# City Type (Urban, Suburban, Rural)"
   ]
  },
  {
   "cell_type": "code",
   "execution_count": null,
   "metadata": {},
   "outputs": [],
   "source": [
    "# libraries\n",
    "import matplotlib.pyplot as plt\n",
    "import pandas as pd\n",
    "import numpy as np\n",
    "import seaborn as sns"
   ]
  },
  {
   "cell_type": "code",
   "execution_count": null,
   "metadata": {},
   "outputs": [],
   "source": [
    "# Load City CSV file\n",
    "# Read the Ride Data\n",
    "city_data = pd.read_csv(\"Resources/city_data.csv\")\n",
    "\n",
    "# Display the data table for preview\n",
    "city_data.head()"
   ]
  },
  {
   "cell_type": "code",
   "execution_count": null,
   "metadata": {},
   "outputs": [],
   "source": [
    "# Load Ride CSV file\n",
    "# Read the Ride Data\n",
    "ride_data = pd.read_csv(\"Resources/ride_data.csv\")\n",
    "\n",
    "# Display the data table for preview\n",
    "ride_data.head()"
   ]
  },
  {
   "cell_type": "code",
   "execution_count": null,
   "metadata": {},
   "outputs": [],
   "source": [
    "# Combine the data into a single dataset\n",
    "data = pd.merge(city_data, ride_data, on = \"city\")\n",
    "# Display the data table for preview\n",
    "data.head()"
   ]
  },
  {
   "cell_type": "code",
   "execution_count": null,
   "metadata": {},
   "outputs": [],
   "source": [
    "# Combine the data into a single dataset\n",
    "pyber_data = pd.merge(ride_data, city_data, on=\"city\", how=\"left\")"
   ]
  },
  {
   "cell_type": "code",
   "execution_count": null,
   "metadata": {},
   "outputs": [],
   "source": [
    "    # Bubble Plot of Ride Sharing Data"
   ]
  },
  {
   "cell_type": "code",
   "execution_count": null,
   "metadata": {},
   "outputs": [],
   "source": [
    "# Obtain the x and y coordinates for each of the three city types\n",
    "urban_city_type = pyber_data[pyber_data[\"type\"] == \"Urban\"]\n",
    "rural_city_type = pyber_data[pyber_data[\"type\"] == \"Rural\"]\n",
    "suburban_city_type = pyber_data[pyber_data[\"type\"] == \"Suburban\"]\n",
    "\n",
    "# Build the scatter plots for each city types / # create data\n",
    "x = np.random.rand(15)\n",
    "y = x+np.random.rand(15)\n",
    "z = x+np.random.rand(15)\n",
    "z=z*z\n",
    "\n",
    "# Number of rides, average fare, and number of drivers in Urban cities\n",
    "x_urban = urban_city_type[\"ride_id\"].count()\n",
    "y_urban = urban_city_type[\"fare\"].mean()\n",
    "s_urban = urban_city_type[\"driver_count\"].mean()\n",
    "\n",
    "# Number of rides, average fare, and number of drivers in Rural cities\n",
    "x_rural = rural_city_type[\"ride_id\"].count()\n",
    "y_rural = rural_city_type[\"fare\"].mean()\n",
    "s_rural = rural_city_type[\"driver_count\"].mean()\n",
    "\n",
    "# Number of rides, average fare, and number of drivers in Suburban cities\n",
    "x_suburban = suburban_city_type[\"ride_id\"].count()\n",
    "y_suburban = suburban_city_type[\"fare\"].mean()\n",
    "s_suburban = suburban_city_type[\"driver_count\"].mean()\n",
    "\n",
    "# Build the scatter plots for each city types\n",
    "plt.scatter(x_urban, y_urban, label = \"Urban\", s=s_urban * 10, color=[\"coral\"], edgecolor=\"black\", alpha = 0.75, marker=\"o\")\n",
    "plt.scatter(x_rural, y_rural, label = \"Rural\", s=s_rural * 10, color=[\"gold\"], edgecolor=\"black\", alpha = 0.75, marker=\"o\")\n",
    "plt.scatter(x_suburban, y_suburban, label = \"Suburban\", s=s_suburban  * 10, color=[\"lightskyblue\"], edgecolor=\"black\", alpha = 0.75, marker=\"o\")\n",
    "plt.grid()\n",
    "\n",
    "# Incorporate the other graph properties / # Change color with c and alpha. I map the color to the X axis value.\n",
    "plt.scatter(x, y, s=z*2000, c=x, cmap=\"Blues\", alpha=0.4, edgecolors=\"grey\", linewidth=2)\n",
    "plt.xlabel(\"the X axis\")\n",
    "plt.ylabel(\"the Y axis\")\n",
    "plt.title(\"A colored bubble plot\")\n",
    "\n",
    "# Create a legend / # Add titles (main and on axis)\n",
    "legend = plt.legend(fontsize = 12, title= \"City Types\", loc=\"best\") \n",
    "\n",
    "# Incorporate a text label regarding circle size\n",
    "plt.text(42,35,\"Note: Disclaimer text about grouping sizes.\", fontsize = 12)"
   ]
  },
  {
   "cell_type": "code",
   "execution_count": null,
   "metadata": {},
   "outputs": [],
   "source": [
    "# Save Figure\n",
    "plt.savefig(\"bubble.png\")"
   ]
  },
  {
   "cell_type": "code",
   "execution_count": null,
   "metadata": {},
   "outputs": [],
   "source": [
    "# In addition, you will be expected to produce the following three pie charts:\n",
    "#  % of Total Fares by City Type\n",
    "#  % of Total Rides by City Type\n",
    "#  % of Total Drivers by City Type"
   ]
  },
  {
   "cell_type": "code",
   "execution_count": null,
   "metadata": {},
   "outputs": [],
   "source": [
    "     # Total Fares by City Type"
   ]
  },
  {
   "cell_type": "code",
   "execution_count": null,
   "metadata": {},
   "outputs": [],
   "source": [
    "# Calculate Type Percents\n",
    "type_groupped = pyber_data.groupby(['type'])\n",
    "fare_sum = type_groupped['fare'].sum()\n",
    "\n",
    "# Build Pie Chart\n",
    "labels = [\"Rural\",\"Suburban\",\"Urban\"]\n",
    "explode = (0, 0, 0.1)\n",
    "colors = [\"gold\", \"lightskyblue\", \"lightcoral\"]\n",
    "plt.pie(fare_sum, explode=explode, labels=labels, colors=colors, autopct=\"%1.1f%%\", shadow=True, startangle=150)\n",
    "plt.title(\"% of Total Fares by City Type\")"
   ]
  },
  {
   "cell_type": "code",
   "execution_count": null,
   "metadata": {},
   "outputs": [],
   "source": [
    "# Save Figure\n",
    "plt.savefig(\"typepie.png\")"
   ]
  },
  {
   "cell_type": "code",
   "execution_count": null,
   "metadata": {},
   "outputs": [],
   "source": [
    "    # Total Rides by City Type"
   ]
  },
  {
   "cell_type": "code",
   "execution_count": null,
   "metadata": {},
   "outputs": [],
   "source": [
    "# Calculate Ride Percents\n",
    "rides_count = type_groupped['ride_id'].count()\n",
    "\n",
    "# Build Pie Chart\n",
    "labels = [\"Rural\",\"Suburban\",\"Urban\"]\n",
    "explode = (0, 0, 0.1)\n",
    "colors = [\"gold\", \"lightskyblue\", \"lightcoral\"]\n",
    "plt.pie(rides_count, explode=explode, labels=labels, colors=colors, autopct=\"%1.1f%%\", shadow=True, startangle=150)\n",
    "plt.title(\"% of Total Rides by City Type\")"
   ]
  },
  {
   "cell_type": "code",
   "execution_count": null,
   "metadata": {},
   "outputs": [],
   "source": [
    "# Save Figure\n",
    "plt.savefig(\"citypie.png\")"
   ]
  },
  {
   "cell_type": "code",
   "execution_count": null,
   "metadata": {},
   "outputs": [],
   "source": [
    "    # Total Drivers by City Type"
   ]
  },
  {
   "cell_type": "code",
   "execution_count": null,
   "metadata": {},
   "outputs": [],
   "source": [
    "type_groupped_drivers = city_data.groupby(['type'])\n",
    "drivers_sum = type_groupped_drivers['driver_count'].sum()\n",
    "\n",
    "# Build Pie Chart\n",
    "labels = [\"Rural\",\"Suburban\",\"Urban\"]\n",
    "explode = (0, 0, 0.1)\n",
    "colors = [\"gold\", \"lightskyblue\", \"lightcoral\"]\n",
    "plt.pie(drivers_sum, explode=explode, labels=labels, colors=colors,autopct=\"%1.1f%%\", shadow=True, startangle=150)\n",
    "plt.title(\"% of Total Drivers by City Type\")"
   ]
  },
  {
   "cell_type": "code",
   "execution_count": null,
   "metadata": {},
   "outputs": [],
   "source": [
    "# Save Figure\n",
    "plt.savefig(\"driverpie.png\")"
   ]
  }
 ],
 "metadata": {
  "kernelspec": {
   "display_name": "Python 3",
   "language": "python",
   "name": "python3"
  },
  "language_info": {
   "codemirror_mode": {
    "name": "ipython",
    "version": 3
   },
   "file_extension": ".py",
   "mimetype": "text/x-python",
   "name": "python",
   "nbconvert_exporter": "python",
   "pygments_lexer": "ipython3",
   "version": "3.7.3"
  }
 },
 "nbformat": 4,
 "nbformat_minor": 2
}
